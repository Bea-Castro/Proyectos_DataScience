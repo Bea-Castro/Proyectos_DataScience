{
 "cells": [
  {
   "cell_type": "code",
   "execution_count": 2,
   "metadata": {},
   "outputs": [
    {
     "data": {
      "text/html": [
       "<div>\n",
       "<style scoped>\n",
       "    .dataframe tbody tr th:only-of-type {\n",
       "        vertical-align: middle;\n",
       "    }\n",
       "\n",
       "    .dataframe tbody tr th {\n",
       "        vertical-align: top;\n",
       "    }\n",
       "\n",
       "    .dataframe thead th {\n",
       "        text-align: right;\n",
       "    }\n",
       "</style>\n",
       "<table border=\"1\" class=\"dataframe\">\n",
       "  <thead>\n",
       "    <tr style=\"text-align: right;\">\n",
       "      <th></th>\n",
       "      <th>url</th>\n",
       "      <th>is_spam</th>\n",
       "    </tr>\n",
       "  </thead>\n",
       "  <tbody>\n",
       "    <tr>\n",
       "      <th>0</th>\n",
       "      <td>https://briefingday.us8.list-manage.com/unsubs...</td>\n",
       "      <td>True</td>\n",
       "    </tr>\n",
       "    <tr>\n",
       "      <th>1</th>\n",
       "      <td>https://www.hvper.com/</td>\n",
       "      <td>True</td>\n",
       "    </tr>\n",
       "    <tr>\n",
       "      <th>2</th>\n",
       "      <td>https://briefingday.com/m/v4n3i4f3</td>\n",
       "      <td>True</td>\n",
       "    </tr>\n",
       "    <tr>\n",
       "      <th>3</th>\n",
       "      <td>https://briefingday.com/n/20200618/m#commentform</td>\n",
       "      <td>False</td>\n",
       "    </tr>\n",
       "    <tr>\n",
       "      <th>4</th>\n",
       "      <td>https://briefingday.com/fan</td>\n",
       "      <td>True</td>\n",
       "    </tr>\n",
       "  </tbody>\n",
       "</table>\n",
       "</div>"
      ],
      "text/plain": [
       "                                                 url  is_spam\n",
       "0  https://briefingday.us8.list-manage.com/unsubs...     True\n",
       "1                             https://www.hvper.com/     True\n",
       "2                 https://briefingday.com/m/v4n3i4f3     True\n",
       "3   https://briefingday.com/n/20200618/m#commentform    False\n",
       "4                        https://briefingday.com/fan     True"
      ]
     },
     "execution_count": 2,
     "metadata": {},
     "output_type": "execute_result"
    }
   ],
   "source": [
    "import pandas as pd\n",
    "\n",
    "# Cargar el dataset\n",
    "df = pd.read_csv(\"url_spam.csv\")\n",
    "\n",
    "# Ver primeras filas\n",
    "df.head()\n"
   ]
  },
  {
   "cell_type": "code",
   "execution_count": 3,
   "metadata": {},
   "outputs": [
    {
     "name": "stderr",
     "output_type": "stream",
     "text": [
      "[nltk_data] Downloading package stopwords to\n",
      "[nltk_data]     /home/beacastro/nltk_data...\n",
      "[nltk_data]   Package stopwords is already up-to-date!\n",
      "[nltk_data] Downloading package wordnet to\n",
      "[nltk_data]     /home/beacastro/nltk_data...\n",
      "[nltk_data]   Package wordnet is already up-to-date!\n"
     ]
    }
   ],
   "source": [
    "import re\n",
    "from sklearn.model_selection import train_test_split\n",
    "from sklearn.feature_extraction.text import TfidfVectorizer\n",
    "import nltk\n",
    "from nltk.corpus import stopwords\n",
    "from nltk.stem import WordNetLemmatizer\n",
    "\n",
    "nltk.download('stopwords')\n",
    "nltk.download('wordnet')\n",
    "\n",
    "# Preprocesamiento de URLs\n",
    "def preprocess_url(url):\n",
    "    # Minúsculas\n",
    "    url = url.lower()\n",
    "    # Tokenización simple por signos de puntuación y slashes\n",
    "    tokens = re.split(r'\\W+', url)\n",
    "    # Eliminar stopwords\n",
    "    stop_words = set(stopwords.words('english'))\n",
    "    tokens = [word for word in tokens if word not in stop_words and word.isalpha()]\n",
    "    # Lematización\n",
    "    lemmatizer = WordNetLemmatizer()\n",
    "    tokens = [lemmatizer.lemmatize(word) for word in tokens]\n",
    "    return ' '.join(tokens)\n",
    "\n",
    "# Aplicar preprocesamiento\n",
    "df['clean_url'] = df['url'].apply(preprocess_url)\n",
    "\n",
    "# División de datos\n",
    "X = df['clean_url']\n",
    "y = df['is_spam'].astype(int)  # convertir booleano a int\n",
    "\n",
    "X_train, X_test, y_train, y_test = train_test_split(X, y, test_size=0.2, random_state=42)\n"
   ]
  },
  {
   "cell_type": "code",
   "execution_count": 4,
   "metadata": {},
   "outputs": [
    {
     "name": "stdout",
     "output_type": "stream",
     "text": [
      "[[435  20]\n",
      " [ 20 125]]\n",
      "              precision    recall  f1-score   support\n",
      "\n",
      "           0       0.96      0.96      0.96       455\n",
      "           1       0.86      0.86      0.86       145\n",
      "\n",
      "    accuracy                           0.93       600\n",
      "   macro avg       0.91      0.91      0.91       600\n",
      "weighted avg       0.93      0.93      0.93       600\n",
      "\n"
     ]
    }
   ],
   "source": [
    "from sklearn.svm import SVC\n",
    "from sklearn.pipeline import Pipeline\n",
    "from sklearn.metrics import classification_report, confusion_matrix\n",
    "\n",
    "# Pipeline: TF-IDF + SVM\n",
    "pipeline = Pipeline([\n",
    "    ('tfidf', TfidfVectorizer()),\n",
    "    ('svm', SVC())\n",
    "])\n",
    "\n",
    "# Entrenamiento\n",
    "pipeline.fit(X_train, y_train)\n",
    "\n",
    "# Evaluación\n",
    "y_pred = pipeline.predict(X_test)\n",
    "print(confusion_matrix(y_test, y_pred))\n",
    "print(classification_report(y_test, y_pred))\n"
   ]
  },
  {
   "cell_type": "code",
   "execution_count": 5,
   "metadata": {},
   "outputs": [
    {
     "name": "stdout",
     "output_type": "stream",
     "text": [
      "Fitting 5 folds for each of 12 candidates, totalling 60 fits\n",
      "[CV] END ...svm__C=0.1, svm__gamma=scale, svm__kernel=linear; total time=   0.2s\n",
      "[CV] END ...svm__C=0.1, svm__gamma=scale, svm__kernel=linear; total time=   0.2s\n",
      "[CV] END ....svm__C=0.1, svm__gamma=auto, svm__kernel=linear; total time=   0.2s\n",
      "[CV] END ...svm__C=0.1, svm__gamma=scale, svm__kernel=linear; total time=   0.2s\n",
      "[CV] END ...svm__C=0.1, svm__gamma=scale, svm__kernel=linear; total time=   0.2s\n",
      "[CV] END .....svm__C=1, svm__gamma=scale, svm__kernel=linear; total time=   0.2s\n",
      "[CV] END ...svm__C=0.1, svm__gamma=scale, svm__kernel=linear; total time=   0.2s\n",
      "[CV] END .....svm__C=1, svm__gamma=scale, svm__kernel=linear; total time=   0.2s\n",
      "[CV] END ....svm__C=0.1, svm__gamma=auto, svm__kernel=linear; total time=   0.2s\n",
      "[CV] END .......svm__C=0.1, svm__gamma=auto, svm__kernel=rbf; total time=   0.2s\n",
      "[CV] END .......svm__C=0.1, svm__gamma=auto, svm__kernel=rbf; total time=   0.2s\n",
      "[CV] END ......svm__C=0.1, svm__gamma=scale, svm__kernel=rbf; total time=   0.3s\n",
      "[CV] END .....svm__C=1, svm__gamma=scale, svm__kernel=linear; total time=   0.2s\n",
      "[CV] END ......svm__C=0.1, svm__gamma=scale, svm__kernel=rbf; total time=   0.3s\n",
      "[CV] END .......svm__C=0.1, svm__gamma=auto, svm__kernel=rbf; total time=   0.2s\n",
      "[CV] END .......svm__C=0.1, svm__gamma=auto, svm__kernel=rbf; total time=   0.2s\n",
      "[CV] END .......svm__C=0.1, svm__gamma=auto, svm__kernel=rbf; total time=   0.2s\n",
      "[CV] END ......svm__C=0.1, svm__gamma=scale, svm__kernel=rbf; total time=   0.3s\n",
      "[CV] END ......svm__C=0.1, svm__gamma=scale, svm__kernel=rbf; total time=   0.3s\n",
      "[CV] END ....svm__C=0.1, svm__gamma=auto, svm__kernel=linear; total time=   0.2s\n",
      "[CV] END ....svm__C=0.1, svm__gamma=auto, svm__kernel=linear; total time=   0.2s\n",
      "[CV] END ....svm__C=0.1, svm__gamma=auto, svm__kernel=linear; total time=   0.2s\n",
      "[CV] END ......svm__C=0.1, svm__gamma=scale, svm__kernel=rbf; total time=   0.3s\n",
      "[CV] END .....svm__C=1, svm__gamma=scale, svm__kernel=linear; total time=   0.2s\n",
      "[CV] END .....svm__C=1, svm__gamma=scale, svm__kernel=linear; total time=   0.2s\n",
      "[CV] END ......svm__C=1, svm__gamma=auto, svm__kernel=linear; total time=   0.1s\n",
      "[CV] END ......svm__C=1, svm__gamma=auto, svm__kernel=linear; total time=   0.2s\n",
      "[CV] END ......svm__C=1, svm__gamma=auto, svm__kernel=linear; total time=   0.2s\n",
      "[CV] END ......svm__C=1, svm__gamma=auto, svm__kernel=linear; total time=   0.2s\n",
      "[CV] END .........svm__C=1, svm__gamma=auto, svm__kernel=rbf; total time=   0.2s\n",
      "[CV] END .........svm__C=1, svm__gamma=auto, svm__kernel=rbf; total time=   0.2s\n",
      "[CV] END .........svm__C=1, svm__gamma=auto, svm__kernel=rbf; total time=   0.2s\n",
      "[CV] END ......svm__C=1, svm__gamma=auto, svm__kernel=linear; total time=   0.2s\n",
      "[CV] END ....svm__C=10, svm__gamma=scale, svm__kernel=linear; total time=   0.2s\n",
      "[CV] END ....svm__C=10, svm__gamma=scale, svm__kernel=linear; total time=   0.2s\n",
      "[CV] END ....svm__C=10, svm__gamma=scale, svm__kernel=linear; total time=   0.2s\n",
      "[CV] END ....svm__C=10, svm__gamma=scale, svm__kernel=linear; total time=   0.2s\n",
      "[CV] END .........svm__C=1, svm__gamma=auto, svm__kernel=rbf; total time=   0.2s\n",
      "[CV] END .........svm__C=1, svm__gamma=auto, svm__kernel=rbf; total time=   0.2s\n",
      "[CV] END ....svm__C=10, svm__gamma=scale, svm__kernel=linear; total time=   0.2s\n",
      "[CV] END ........svm__C=1, svm__gamma=scale, svm__kernel=rbf; total time=   0.3s\n",
      "[CV] END ........svm__C=1, svm__gamma=scale, svm__kernel=rbf; total time=   0.3s\n",
      "[CV] END ........svm__C=1, svm__gamma=scale, svm__kernel=rbf; total time=   0.3s\n",
      "[CV] END ........svm__C=1, svm__gamma=scale, svm__kernel=rbf; total time=   0.3s\n",
      "[CV] END .....svm__C=10, svm__gamma=auto, svm__kernel=linear; total time=   0.1s\n",
      "[CV] END .....svm__C=10, svm__gamma=auto, svm__kernel=linear; total time=   0.1s\n",
      "[CV] END .....svm__C=10, svm__gamma=auto, svm__kernel=linear; total time=   0.1s\n",
      "[CV] END ........svm__C=1, svm__gamma=scale, svm__kernel=rbf; total time=   0.3s\n",
      "[CV] END .....svm__C=10, svm__gamma=auto, svm__kernel=linear; total time=   0.1s\n",
      "[CV] END .....svm__C=10, svm__gamma=auto, svm__kernel=linear; total time=   0.1s\n",
      "[CV] END .......svm__C=10, svm__gamma=scale, svm__kernel=rbf; total time=   0.3s\n",
      "[CV] END ........svm__C=10, svm__gamma=auto, svm__kernel=rbf; total time=   0.2s\n",
      "[CV] END ........svm__C=10, svm__gamma=auto, svm__kernel=rbf; total time=   0.1s\n",
      "[CV] END .......svm__C=10, svm__gamma=scale, svm__kernel=rbf; total time=   0.3s\n",
      "[CV] END ........svm__C=10, svm__gamma=auto, svm__kernel=rbf; total time=   0.1s\n",
      "[CV] END .......svm__C=10, svm__gamma=scale, svm__kernel=rbf; total time=   0.3s\n",
      "[CV] END ........svm__C=10, svm__gamma=auto, svm__kernel=rbf; total time=   0.2s\n",
      "[CV] END .......svm__C=10, svm__gamma=scale, svm__kernel=rbf; total time=   0.2s\n",
      "[CV] END ........svm__C=10, svm__gamma=auto, svm__kernel=rbf; total time=   0.2s\n",
      "[CV] END .......svm__C=10, svm__gamma=scale, svm__kernel=rbf; total time=   0.3s\n",
      "Mejor combinación: {'svm__C': 10, 'svm__gamma': 'scale', 'svm__kernel': 'rbf'}\n",
      "Mejor score: 0.9391483994432847\n",
      "[[436  19]\n",
      " [ 13 132]]\n",
      "              precision    recall  f1-score   support\n",
      "\n",
      "           0       0.97      0.96      0.96       455\n",
      "           1       0.87      0.91      0.89       145\n",
      "\n",
      "    accuracy                           0.95       600\n",
      "   macro avg       0.92      0.93      0.93       600\n",
      "weighted avg       0.95      0.95      0.95       600\n",
      "\n"
     ]
    }
   ],
   "source": [
    "from sklearn.model_selection import GridSearchCV\n",
    "\n",
    "# Grid de hiperparámetros\n",
    "param_grid = {\n",
    "    'svm__C': [0.1, 1, 10],\n",
    "    'svm__kernel': ['linear', 'rbf'],\n",
    "    'svm__gamma': ['scale', 'auto']\n",
    "}\n",
    "\n",
    "# GridSearch con 5-fold CV\n",
    "grid = GridSearchCV(pipeline, param_grid, cv=5, scoring='accuracy', verbose=2, n_jobs=-1)\n",
    "grid.fit(X_train, y_train)\n",
    "\n",
    "# Resultados\n",
    "print(\"Mejor combinación:\", grid.best_params_)\n",
    "print(\"Mejor score:\", grid.best_score_)\n",
    "\n",
    "# Evaluación final con el mejor modelo\n",
    "y_pred_optimized = grid.predict(X_test)\n",
    "print(confusion_matrix(y_test, y_pred_optimized))\n",
    "print(classification_report(y_test, y_pred_optimized))\n"
   ]
  },
  {
   "cell_type": "code",
   "execution_count": 6,
   "metadata": {},
   "outputs": [
    {
     "data": {
      "text/plain": [
       "['modelo_url_spam.pkl']"
      ]
     },
     "execution_count": 6,
     "metadata": {},
     "output_type": "execute_result"
    }
   ],
   "source": [
    "import joblib\n",
    "\n",
    "# Guardar modelo optimizado\n",
    "joblib.dump(grid.best_estimator_, 'modelo_url_spam.pkl')\n"
   ]
  },
  {
   "cell_type": "code",
   "execution_count": 7,
   "metadata": {},
   "outputs": [
    {
     "name": "stdout",
     "output_type": "stream",
     "text": [
      "Accuracy: 0.9467\n",
      "\n",
      "Matriz de Confusión:\n",
      "[[436  19]\n",
      " [ 13 132]]\n",
      "\n",
      "Reporte de Clasificación:\n",
      "              precision    recall  f1-score   support\n",
      "\n",
      "           0       0.97      0.96      0.96       455\n",
      "           1       0.87      0.91      0.89       145\n",
      "\n",
      "    accuracy                           0.95       600\n",
      "   macro avg       0.92      0.93      0.93       600\n",
      "weighted avg       0.95      0.95      0.95       600\n",
      "\n"
     ]
    }
   ],
   "source": [
    "from sklearn.metrics import accuracy_score, confusion_matrix, classification_report\n",
    "\n",
    "# Predicciones sobre el set de test\n",
    "y_pred_test = grid.predict(X_test)\n",
    "\n",
    "# Métricas de evaluación\n",
    "acc = accuracy_score(y_test, y_pred_test)\n",
    "cm = confusion_matrix(y_test, y_pred_test)\n",
    "report = classification_report(y_test, y_pred_test)\n",
    "\n",
    "print(f\"Accuracy: {acc:.4f}\")\n",
    "print(\"\\nMatriz de Confusión:\")\n",
    "print(cm)\n",
    "print(\"\\nReporte de Clasificación:\")\n",
    "print(report)\n"
   ]
  },
  {
   "cell_type": "markdown",
   "metadata": {},
   "source": [
    "Evaluación del Modelo – Interpretación Técnica\n",
    "Matriz de Confusión\n",
    "\n",
    "    [[436   19]\n",
    "    [ 13    132]]\n",
    "\n",
    "    436 ejemplos de clase 0 (no spam) fueron correctamente clasificados.\n",
    "    132 ejemplos de clase 1 (spam) fueron correctamente clasificados.\n",
    "    19 ejemplos de clase 0 fueron clasificados incorrectamente como spam (falsos positivos).\n",
    "    13 ejemplos de clase 1 fueron clasificados incorrectamente como no spam (falsos negativos).\n",
    "\n",
    "Métricas por Clase\n",
    "Clase\t            Precision\tRecall\tF1-Score\tSupport\n",
    "0 (no spam)\t            0.97\t0.96\t0.96\t      455\n",
    "1 (spam)\t            0.87\t0.91\t0.89\t      145\n",
    "\n",
    "    La clase 0 tiene métricas más altas, lo que puede deberse a su mayor representación en los datos (mayor soporte).\n",
    "    La clase 1, aunque minoritaria, presenta una precisión aceptable (0.87) y un recall elevado (0.91), lo cual es positivo para evitar dejar pasar spam.\n",
    "\n",
    "Promedios Globales\n",
    "    Accuracy: 0.9467 → El modelo acertó aproximadamente en el 94.67% de los casos.\n",
    "    Macro promedio: 0.93 de F1-score → Promedio simple entre clases, indicando un rendimiento balanceado.\n",
    "    Promedio ponderado (weighted avg): 0.95 de F1-score → Ajustado según el número de ejemplos por clase, confirma el buen desempeño general.\n",
    "\n",
    "Conclusión\n",
    "\n",
    "El modelo SVM optimizado logra una buena generalización sobre el conjunto de test, con alta precisión y recall especialmente en la clase de interés (spam). El número de falsos negativos es bajo (13), lo cual es favorable en contextos donde se busca minimizar el riesgo de que spam pase desapercibido."
   ]
  }
 ],
 "metadata": {
  "kernelspec": {
   "display_name": "datascience",
   "language": "python",
   "name": "python3"
  },
  "language_info": {
   "codemirror_mode": {
    "name": "ipython",
    "version": 3
   },
   "file_extension": ".py",
   "mimetype": "text/x-python",
   "name": "python",
   "nbconvert_exporter": "python",
   "pygments_lexer": "ipython3",
   "version": "3.10.16"
  }
 },
 "nbformat": 4,
 "nbformat_minor": 2
}
